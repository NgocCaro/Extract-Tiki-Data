{
 "cells": [
  {
   "cell_type": "code",
   "execution_count": 28,
   "id": "2df81aa4",
   "metadata": {},
   "outputs": [],
   "source": [
    "\n",
    "import requests\n",
    "import time\n",
    "import random\n",
    "import pandas as pd\n",
    "import csv"
   ]
  },
  {
   "cell_type": "code",
   "execution_count": 17,
   "id": "4a7ee262",
   "metadata": {},
   "outputs": [],
   "source": [
    "cookies = {\n",
    "    '_trackity':'f684d5b7-42e0-44cb-fd52-ad02afbcb2b7',\n",
    "    'TOKENS': '{%22access_token%22:%225OQoAigvDNmBVCT7WZYhLUJrsIa34zqK%22%2C%22expires_in%22:157680000%2C%22expires_at%22:1856329690150%2C%22guest_token%22:%225OQoAigvDNmBVCT7WZYhLUJrsIa34zqK%22}',\n",
    "    'delivery_zone' : 'Vk4wMzQwMjQwMTM=',\n",
    "    '_ga' : 'GA1.1.1536681853.1698649698',\n",
    "    '_gcl_au' : '1.1.2002048130.1698649702',\n",
    "    '_fbp' : 'fb.1.1698649702109.2032681665',\n",
    "    '_hjFirstSeen' : '1',\n",
    "    '_hjIncludedInSessionSample_522327' : '0',\n",
    "    '_hjSession_522327':'eyJpZCI6ImU1ZDM4ZmU3LTNlY2EtNDQzYi1iZGIwLTk0YTlhZjM5ODJlNSIsImNyZWF0ZWQiOjE2OTg2NDk3MDMwMTUsImluU2FtcGxlIjpmYWxzZSwic2Vzc2lvbml6ZXJCZXRhRW5hYmxlZCI6ZmFsc2V9',\n",
    "    '_hjAbsoluteSessionInProgress':'0',\n",
    "    'tiki_client_id':'1536681853.1698649698',\n",
    "    '_hjSessionUser_522327':'eyJpZCI6IjViMDMyOTEyLWRkNDctNTQ2Yy1iMTZhLTNiMDQ4OTg2ZGNiZiIsImNyZWF0ZWQiOjE2OTg2NDk3MDMwMTMsImV4aXN0aW5nIjp0cnVlfQ==',\n",
    "    'cto_bundle':'swbnN19TOWx0TTZad0V2d1VJeTNiaGlXWlNobDNZTHVkWU1jY3RsJTJGYjdpYzQlMkIlMkZ1WkV0ZDZNODQ4RWZ1bTFSbTRvdVVQaVlNJTJCSUhiTDFBUXZ0b2p6V0V1b1owS3A3VnNxUHhzQWR1cTM0Tk5ON2xQTmN0bTZVdzZrTXRocDBVWWdOTEFHREVqMVNEbzRSOHBWT0thJTJCVTF6Um9nJTNEJTNE',\n",
    "    'amp_99d374':'HP2GITM06j0OFYs3WAxEV-...1hdvmipq6.1hdvmopbf.23.2a.4d',\n",
    "    '_ga_S9GLR1RQFJ':'GS1.1.1698649697.1.1.1698649947.60.0.0'\n",
    "}\n",
    "  "
   ]
  },
  {
   "cell_type": "code",
   "execution_count": 18,
   "id": "287e0822",
   "metadata": {},
   "outputs": [],
   "source": [
    "\n",
    "params = {\n",
    "    'limit': '40',\n",
    "    'include': 'advertisement',\n",
    "    'aggregations': '2',\n",
    "    'version': 'home-persionalized',\n",
    "    'trackity_id': 'f684d5b7-42e0-44cb-fd52-ad02afbcb2b7',\n",
    "    'category': '1789',\n",
    "    'page': '1',\n",
    "    'urlKey': 'dien-thoai-may-tinh-bang'\n",
    "}"
   ]
  },
  {
   "cell_type": "code",
   "execution_count": 19,
   "id": "a90d81b5",
   "metadata": {},
   "outputs": [],
   "source": [
    "\n",
    "headers = {\n",
    "    'User-Agent':'Mozilla/5.0 (Windows NT 10.0; Win64; x64) AppleWebKit/537.36 (KHTML, like Gecko) Chrome/118.0.0.0 Safari/537.36',\n",
    "    'Accept':'application/json, text/plain, */*',\n",
    "    'Accept-Language':'en-US,en;q=0.9,vi;q=0.8',\n",
    "    'Referer':'https://tiki.vn/dien-thoai-may-tinh-bang/c1789',\n",
    "    'X-Guest-Token':'5OQoAigvDNmBVCT7WZYhLUJrsIa34zqK',\n",
    "}\n",
    "     "
   ]
  },
  {
   "cell_type": "code",
   "execution_count": 21,
   "id": "8fd7b504",
   "metadata": {},
   "outputs": [
    {
     "name": "stdout",
     "output_type": "stream",
     "text": [
      "request success!!!\n",
      "request success!!!\n"
     ]
    }
   ],
   "source": [
    "product_id = []\n",
    "for i in range(1, 3):# ví dụ chỉ lấy 10 page thôi\n",
    "    params['page'] = i\n",
    "    response = requests.get('https://tiki.vn/api/v2/products', headers=headers, params=params)#, cookies=cookies)\n",
    "    if response.status_code == 200:\n",
    "        print('request success!!!')\n",
    "        for record in response.json().get('data'):\n",
    "            product_id.append({'id': record.get('id')})\n",
    "    time.sleep(random.randrange(3, 10))#Đặt một khoảng thời gian ngẫu nhiên để chờ trước khi gửi yêu cầu tiếp theo\n",
    "                                      #đến trang web. Điều này giúp tránh gửi quá nhiều yêu cầu cùng lúc và có thể bị chặn.\n",
    "\n",
    "df = pd.DataFrame(product_id)\n",
    "df.to_csv('product_id.csv', index=False)"
   ]
  },
  {
   "cell_type": "code",
   "execution_count": 29,
   "id": "17131e0f",
   "metadata": {},
   "outputs": [],
   "source": [
    "import pandas as pd\n",
    "import requests\n",
    "import time\n",
    "import random\n",
    "import csv\n",
    "from tqdm import tqdm # nó sẽ cung cấp thông tin về số lượng công việc đã hoàn thành, phần còn lại, \n",
    "                                                #và ước lượng thời gian còn lại cho vòng lặp"
   ]
  },
  {
   "cell_type": "code",
   "execution_count": 30,
   "id": "584a0905",
   "metadata": {},
   "outputs": [],
   "source": [
    "cookies = {'_trackity':'f684d5b7-42e0-44cb-fd52-ad02afbcb2b7', \n",
    "'_ga':'GA1.1.1536681853.1698649698', \n",
    "'_gcl_au':'1.1.2002048130.1698649702', \n",
    "'_fbp':'fb.1.1698649702109.2032681665', \n",
    "'_hjSessionUser_522327':'eyJpZCI6IjViMDMyOTEyLWRkNDctNTQ2Yy1iMTZhLTNiMDQ4OTg2ZGNiZiIsImNyZWF0ZWQiOjE2OTg2NDk3MDMwMTMsImV4aXN0aW5nIjp0cnVlfQ==', \n",
    "'TOKENS':'{%22access_token%22:%225OQoAigvDNmBVCT7WZYhLUJrsIa34zqK%22}', \n",
    "'tiki_client_id':'1536681853.1698649698', \n",
    "'delivery_zone':'Vk4wMzQwMjQwMTM=', \n",
    "'_hjSession_522327':'eyJpZCI6ImUwMjhkNjJlLTkyMzQtNDg5OC05MmM1LTIwMTJlZDVkODY0MyIsImNyZWF0ZWQiOjE2OTg4Mjk2NzU2MjQsImluU2FtcGxlIjpmYWxzZSwic2Vzc2lvbml6ZXJCZXRhRW5hYmxlZCI6ZmFsc2V9', \n",
    "'_hjAbsoluteSessionInProgress':'1', \n",
    "'amp_99d374':'HP2GITM06j0OFYs3WAxEV-...1he5539q8.1he553glv.5e.6g.bu', \n",
    "'_hjIncludedInSessionSample_522327':'0', \n",
    "'cto_bundle':'5I-B719TOWx0TTZad0V2d1VJeTNiaGlXWlNuaklqNDhwejglMkJXWm5HcWtOUFI4bXRBZ09Kc2JERmJzQm9yYUhBbiUyRmE0TCUyQlFZWFp4REFCU215R3dzQUU3eCUyQjdiWXkwZDdVeHIyckNLbVVsRWNGbmUxZXhLRHZzaVZTVThJNTNPaTZUM2xtSGo0QkVkUno1REQlMkY5STMlMkY3WkZDMEElM0QlM0Q', \n",
    "'_ga_S9GLR1RQFJ':'GS1.1.1698832690.10.1.1698832712.38.0.0'}"
   ]
  },
  {
   "cell_type": "code",
   "execution_count": 31,
   "id": "84830db0",
   "metadata": {},
   "outputs": [],
   "source": [
    "headers = { \n",
    "'User-Agent':'Mozilla/5.0 (Windows NT 10.0; Win64; x64) AppleWebKit/537.36 (KHTML, like Gecko) Chrome/118.0.0.0 Safari/537.36',\n",
    "'Accept':'application/json, text/plain, */*',\n",
    "'Accept-Language':'en-US,en;q=0.9,vi;q=0.8',\n",
    "'Referer':'https://tiki.vn/may-doc-sach-all-new-kindle-paperwhite-5-11th-gen-hang-nhap-khau-p125182567.html?itm_campaign=CTP_YPD_TKA_PLA_UNK_ALL_UNK_UNK_UNK_UNK_X.204054_Y.1786374_Z.3548453_CN.PPW5--Chuan-nhat&itm_medium=CPC&itm_source=tiki-ads&spid=125182569',\n",
    "'X-Guest-Token':'5OQoAigvDNmBVCT7WZYhLUJrsIa34zqK',\n",
    "     'Connection': 'keep-alive',\n",
    "    'TE': 'Trailers',\n",
    "}"
   ]
  },
  {
   "cell_type": "code",
   "execution_count": 32,
   "id": "d4d56c64",
   "metadata": {},
   "outputs": [],
   "source": [
    "params = {\n",
    "    'platform': 'web',\n",
    "'spid': '125182569',\n",
    "'version': '3'\n",
    "}"
   ]
  },
  {
   "cell_type": "code",
   "execution_count": 33,
   "id": "3447fc6b",
   "metadata": {},
   "outputs": [
    {
     "name": "stdout",
     "output_type": "stream",
     "text": [
      "[125182567, 36264193, 173387789, 217706932, 252586291, 205750556, 271973414, 91612670, 57809866, 271966786, 271362153, 270510406, 163914808, 272909668, 217645692, 271972435, 183330021, 125182567, 197670818, 214756058, 201067649, 181928619, 226552005, 202182043, 181927801, 120295859, 184059211, 271967379, 270471106, 184253251, 197214015, 175845367, 271046571, 197216291, 270978283, 250109584, 253269077, 252586291, 205815593, 197216279, 272270730, 271467653, 201067649, 272222033, 270978486, 184036446, 217706932, 270814388, 220680981, 216173180, 270447782, 163914808, 171897574, 252427658, 184248127, 270471101, 197905982, 248590019, 244308977, 250111470, 247823537, 270977740, 123345348, 197214029, 198648645, 170497385, 230157205, 247730209, 249890677, 249143473, 270714226, 197907038, 247730281, 247731336, 258667842, 140309479, 209872337, 259542697, 270814316, 257682739, 179547641, 260986508, 262845685, 225266084, 209927605, 200995800, 264051117, 103168071, 215902961, 272273680, 173387789, 125590981, 214603586, 230155305, 270683809]\n"
     ]
    },
    {
     "name": "stderr",
     "output_type": "stream",
     "text": [
      "  1%|▊                                                                                  | 1/95 [00:00<01:05,  1.42it/s]"
     ]
    },
    {
     "name": "stdout",
     "output_type": "stream",
     "text": [
      "Crawl data 125182567 success !!!\n"
     ]
    },
    {
     "name": "stderr",
     "output_type": "stream",
     "text": [
      "  2%|█▋                                                                                 | 2/95 [00:01<01:15,  1.24it/s]"
     ]
    },
    {
     "name": "stdout",
     "output_type": "stream",
     "text": [
      "Crawl data 36264193 success !!!\n"
     ]
    },
    {
     "name": "stderr",
     "output_type": "stream",
     "text": [
      "  3%|██▌                                                                                | 3/95 [00:03<01:44,  1.14s/it]"
     ]
    },
    {
     "name": "stdout",
     "output_type": "stream",
     "text": [
      "Crawl data 173387789 success !!!\n"
     ]
    },
    {
     "name": "stderr",
     "output_type": "stream",
     "text": [
      "  4%|███▍                                                                               | 4/95 [00:03<01:25,  1.07it/s]"
     ]
    },
    {
     "name": "stdout",
     "output_type": "stream",
     "text": [
      "Crawl data 217706932 success !!!\n"
     ]
    },
    {
     "name": "stderr",
     "output_type": "stream",
     "text": [
      "  5%|████▎                                                                              | 5/95 [00:04<01:16,  1.18it/s]"
     ]
    },
    {
     "name": "stdout",
     "output_type": "stream",
     "text": [
      "Crawl data 252586291 success !!!\n"
     ]
    },
    {
     "name": "stderr",
     "output_type": "stream",
     "text": [
      "  6%|█████▏                                                                             | 6/95 [00:04<00:57,  1.54it/s]"
     ]
    },
    {
     "name": "stdout",
     "output_type": "stream",
     "text": [
      "Crawl data 205750556 success !!!\n"
     ]
    },
    {
     "name": "stderr",
     "output_type": "stream",
     "text": [
      "  7%|██████                                                                             | 7/95 [00:05<00:53,  1.64it/s]"
     ]
    },
    {
     "name": "stdout",
     "output_type": "stream",
     "text": [
      "Crawl data 271973414 success !!!\n"
     ]
    },
    {
     "name": "stderr",
     "output_type": "stream",
     "text": [
      "  8%|██████▉                                                                            | 8/95 [00:05<00:43,  2.00it/s]"
     ]
    },
    {
     "name": "stdout",
     "output_type": "stream",
     "text": [
      "Crawl data 91612670 success !!!\n"
     ]
    },
    {
     "name": "stderr",
     "output_type": "stream",
     "text": [
      "  9%|███████▊                                                                           | 9/95 [00:05<00:37,  2.32it/s]"
     ]
    },
    {
     "name": "stdout",
     "output_type": "stream",
     "text": [
      "Crawl data 57809866 success !!!\n"
     ]
    },
    {
     "name": "stderr",
     "output_type": "stream",
     "text": [
      " 11%|████████▋                                                                         | 10/95 [00:06<00:38,  2.22it/s]"
     ]
    },
    {
     "name": "stdout",
     "output_type": "stream",
     "text": [
      "Crawl data 271966786 success !!!\n"
     ]
    },
    {
     "name": "stderr",
     "output_type": "stream",
     "text": [
      " 12%|█████████▍                                                                        | 11/95 [00:06<00:38,  2.19it/s]"
     ]
    },
    {
     "name": "stdout",
     "output_type": "stream",
     "text": [
      "Crawl data 271362153 success !!!\n"
     ]
    },
    {
     "name": "stderr",
     "output_type": "stream",
     "text": [
      " 13%|██████████▎                                                                       | 12/95 [00:06<00:32,  2.54it/s]"
     ]
    },
    {
     "name": "stdout",
     "output_type": "stream",
     "text": [
      "Crawl data 270510406 success !!!\n"
     ]
    },
    {
     "name": "stderr",
     "output_type": "stream",
     "text": [
      " 14%|███████████▏                                                                      | 13/95 [00:07<00:42,  1.91it/s]"
     ]
    },
    {
     "name": "stdout",
     "output_type": "stream",
     "text": [
      "Crawl data 163914808 success !!!\n"
     ]
    },
    {
     "name": "stderr",
     "output_type": "stream",
     "text": [
      " 15%|████████████                                                                      | 14/95 [00:08<00:56,  1.44it/s]"
     ]
    },
    {
     "name": "stdout",
     "output_type": "stream",
     "text": [
      "Crawl data 272909668 success !!!\n"
     ]
    },
    {
     "name": "stderr",
     "output_type": "stream",
     "text": [
      " 16%|████████████▉                                                                     | 15/95 [00:09<00:45,  1.76it/s]"
     ]
    },
    {
     "name": "stdout",
     "output_type": "stream",
     "text": [
      "Crawl data 217645692 success !!!\n"
     ]
    },
    {
     "name": "stderr",
     "output_type": "stream",
     "text": [
      " 17%|█████████████▊                                                                    | 16/95 [00:09<00:44,  1.80it/s]"
     ]
    },
    {
     "name": "stdout",
     "output_type": "stream",
     "text": [
      "Crawl data 271972435 success !!!\n"
     ]
    },
    {
     "name": "stderr",
     "output_type": "stream",
     "text": [
      " 18%|██████████████▋                                                                   | 17/95 [00:09<00:36,  2.12it/s]"
     ]
    },
    {
     "name": "stdout",
     "output_type": "stream",
     "text": [
      "Crawl data 183330021 success !!!\n"
     ]
    },
    {
     "name": "stderr",
     "output_type": "stream",
     "text": [
      " 19%|███████████████▌                                                                  | 18/95 [00:10<00:36,  2.09it/s]"
     ]
    },
    {
     "name": "stdout",
     "output_type": "stream",
     "text": [
      "Crawl data 125182567 success !!!\n"
     ]
    },
    {
     "name": "stderr",
     "output_type": "stream",
     "text": [
      " 20%|████████████████▍                                                                 | 19/95 [00:10<00:31,  2.41it/s]"
     ]
    },
    {
     "name": "stdout",
     "output_type": "stream",
     "text": [
      "Crawl data 197670818 success !!!\n"
     ]
    },
    {
     "name": "stderr",
     "output_type": "stream",
     "text": [
      " 21%|█████████████████▎                                                                | 20/95 [00:11<00:33,  2.22it/s]"
     ]
    },
    {
     "name": "stdout",
     "output_type": "stream",
     "text": [
      "Crawl data 214756058 success !!!\n"
     ]
    },
    {
     "name": "stderr",
     "output_type": "stream",
     "text": [
      " 22%|██████████████████▏                                                               | 21/95 [00:11<00:34,  2.14it/s]"
     ]
    },
    {
     "name": "stdout",
     "output_type": "stream",
     "text": [
      "Crawl data 201067649 success !!!\n"
     ]
    },
    {
     "name": "stderr",
     "output_type": "stream",
     "text": [
      " 23%|██████████████████▉                                                               | 22/95 [00:12<00:29,  2.51it/s]"
     ]
    },
    {
     "name": "stdout",
     "output_type": "stream",
     "text": [
      "Crawl data 181928619 success !!!\n"
     ]
    },
    {
     "name": "stderr",
     "output_type": "stream",
     "text": [
      " 24%|███████████████████▊                                                              | 23/95 [00:12<00:25,  2.86it/s]"
     ]
    },
    {
     "name": "stdout",
     "output_type": "stream",
     "text": [
      "Crawl data 226552005 success !!!\n"
     ]
    },
    {
     "name": "stderr",
     "output_type": "stream",
     "text": [
      " 25%|████████████████████▋                                                             | 24/95 [00:12<00:23,  3.09it/s]"
     ]
    },
    {
     "name": "stdout",
     "output_type": "stream",
     "text": [
      "Crawl data 202182043 success !!!\n"
     ]
    },
    {
     "name": "stderr",
     "output_type": "stream",
     "text": [
      " 26%|█████████████████████▌                                                            | 25/95 [00:12<00:21,  3.31it/s]"
     ]
    },
    {
     "name": "stdout",
     "output_type": "stream",
     "text": [
      "Crawl data 181927801 success !!!\n"
     ]
    },
    {
     "name": "stderr",
     "output_type": "stream",
     "text": [
      " 27%|██████████████████████▍                                                           | 26/95 [00:13<00:19,  3.51it/s]"
     ]
    },
    {
     "name": "stdout",
     "output_type": "stream",
     "text": [
      "Crawl data 120295859 success !!!\n"
     ]
    },
    {
     "name": "stderr",
     "output_type": "stream",
     "text": [
      " 28%|███████████████████████▎                                                          | 27/95 [00:13<00:31,  2.14it/s]"
     ]
    },
    {
     "name": "stdout",
     "output_type": "stream",
     "text": [
      "Crawl data 184059211 success !!!\n"
     ]
    },
    {
     "name": "stderr",
     "output_type": "stream",
     "text": [
      " 29%|████████████████████████▏                                                         | 28/95 [00:15<00:47,  1.42it/s]"
     ]
    },
    {
     "name": "stdout",
     "output_type": "stream",
     "text": [
      "Crawl data 271967379 success !!!\n"
     ]
    },
    {
     "name": "stderr",
     "output_type": "stream",
     "text": [
      " 31%|█████████████████████████                                                         | 29/95 [00:15<00:41,  1.59it/s]"
     ]
    },
    {
     "name": "stdout",
     "output_type": "stream",
     "text": [
      "Crawl data 270471106 success !!!\n"
     ]
    },
    {
     "name": "stderr",
     "output_type": "stream",
     "text": [
      " 32%|█████████████████████████▉                                                        | 30/95 [00:16<00:38,  1.67it/s]"
     ]
    },
    {
     "name": "stdout",
     "output_type": "stream",
     "text": [
      "Crawl data 184253251 success !!!\n"
     ]
    },
    {
     "name": "stderr",
     "output_type": "stream",
     "text": [
      " 33%|██████████████████████████▊                                                       | 31/95 [00:16<00:36,  1.74it/s]"
     ]
    },
    {
     "name": "stdout",
     "output_type": "stream",
     "text": [
      "Crawl data 197214015 success !!!\n"
     ]
    },
    {
     "name": "stderr",
     "output_type": "stream",
     "text": [
      " 34%|███████████████████████████▌                                                      | 32/95 [00:17<00:34,  1.84it/s]"
     ]
    },
    {
     "name": "stdout",
     "output_type": "stream",
     "text": [
      "Crawl data 175845367 success !!!\n"
     ]
    },
    {
     "name": "stderr",
     "output_type": "stream",
     "text": [
      " 35%|████████████████████████████▍                                                     | 33/95 [00:17<00:32,  1.92it/s]"
     ]
    },
    {
     "name": "stdout",
     "output_type": "stream",
     "text": [
      "Crawl data 271046571 success !!!\n"
     ]
    },
    {
     "name": "stderr",
     "output_type": "stream",
     "text": [
      " 36%|█████████████████████████████▎                                                    | 34/95 [00:18<00:31,  1.94it/s]"
     ]
    },
    {
     "name": "stdout",
     "output_type": "stream",
     "text": [
      "Crawl data 197216291 success !!!\n"
     ]
    },
    {
     "name": "stderr",
     "output_type": "stream",
     "text": [
      " 37%|██████████████████████████████▏                                                   | 35/95 [00:18<00:26,  2.24it/s]"
     ]
    },
    {
     "name": "stdout",
     "output_type": "stream",
     "text": [
      "Crawl data 270978283 success !!!\n"
     ]
    },
    {
     "name": "stderr",
     "output_type": "stream",
     "text": [
      " 38%|███████████████████████████████                                                   | 36/95 [00:18<00:27,  2.16it/s]"
     ]
    },
    {
     "name": "stdout",
     "output_type": "stream",
     "text": [
      "Crawl data 250109584 success !!!\n"
     ]
    },
    {
     "name": "stderr",
     "output_type": "stream",
     "text": [
      " 39%|███████████████████████████████▉                                                  | 37/95 [00:19<00:26,  2.19it/s]"
     ]
    },
    {
     "name": "stdout",
     "output_type": "stream",
     "text": [
      "Crawl data 253269077 success !!!\n"
     ]
    },
    {
     "name": "stderr",
     "output_type": "stream",
     "text": [
      " 40%|████████████████████████████████▊                                                 | 38/95 [00:20<00:44,  1.29it/s]"
     ]
    },
    {
     "name": "stdout",
     "output_type": "stream",
     "text": [
      "Crawl data 252586291 success !!!\n"
     ]
    },
    {
     "name": "stderr",
     "output_type": "stream",
     "text": [
      " 41%|█████████████████████████████████▋                                                | 39/95 [00:21<00:46,  1.22it/s]"
     ]
    },
    {
     "name": "stdout",
     "output_type": "stream",
     "text": [
      "Crawl data 205815593 success !!!\n"
     ]
    },
    {
     "name": "stderr",
     "output_type": "stream",
     "text": [
      " 42%|██████████████████████████████████▌                                               | 40/95 [00:22<00:39,  1.39it/s]"
     ]
    },
    {
     "name": "stdout",
     "output_type": "stream",
     "text": [
      "Crawl data 197216279 success !!!\n"
     ]
    },
    {
     "name": "stderr",
     "output_type": "stream",
     "text": [
      " 43%|███████████████████████████████████▍                                              | 41/95 [00:22<00:35,  1.53it/s]"
     ]
    },
    {
     "name": "stdout",
     "output_type": "stream",
     "text": [
      "Crawl data 272270730 success !!!\n"
     ]
    },
    {
     "name": "stderr",
     "output_type": "stream",
     "text": [
      " 44%|████████████████████████████████████▎                                             | 42/95 [00:23<00:28,  1.84it/s]"
     ]
    },
    {
     "name": "stdout",
     "output_type": "stream",
     "text": [
      "Crawl data 271467653 success !!!\n"
     ]
    },
    {
     "name": "stderr",
     "output_type": "stream",
     "text": [
      " 45%|█████████████████████████████████████                                             | 43/95 [00:23<00:25,  2.04it/s]"
     ]
    },
    {
     "name": "stdout",
     "output_type": "stream",
     "text": [
      "Crawl data 201067649 success !!!\n"
     ]
    },
    {
     "name": "stderr",
     "output_type": "stream",
     "text": [
      " 46%|█████████████████████████████████████▉                                            | 44/95 [00:23<00:26,  1.95it/s]"
     ]
    },
    {
     "name": "stdout",
     "output_type": "stream",
     "text": [
      "Crawl data 272222033 success !!!\n"
     ]
    },
    {
     "name": "stderr",
     "output_type": "stream",
     "text": [
      " 47%|██████████████████████████████████████▊                                           | 45/95 [00:24<00:22,  2.22it/s]"
     ]
    },
    {
     "name": "stdout",
     "output_type": "stream",
     "text": [
      "Crawl data 270978486 success !!!\n"
     ]
    },
    {
     "name": "stderr",
     "output_type": "stream",
     "text": [
      " 48%|███████████████████████████████████████▋                                          | 46/95 [00:24<00:19,  2.50it/s]"
     ]
    },
    {
     "name": "stdout",
     "output_type": "stream",
     "text": [
      "Crawl data 184036446 success !!!\n"
     ]
    },
    {
     "name": "stderr",
     "output_type": "stream",
     "text": [
      " 49%|████████████████████████████████████████▌                                         | 47/95 [00:25<00:21,  2.25it/s]"
     ]
    },
    {
     "name": "stdout",
     "output_type": "stream",
     "text": [
      "Crawl data 217706932 success !!!\n"
     ]
    },
    {
     "name": "stderr",
     "output_type": "stream",
     "text": [
      " 51%|█████████████████████████████████████████▍                                        | 48/95 [00:26<00:32,  1.43it/s]"
     ]
    },
    {
     "name": "stdout",
     "output_type": "stream",
     "text": [
      "Crawl data 270814388 success !!!\n"
     ]
    },
    {
     "name": "stderr",
     "output_type": "stream",
     "text": [
      " 52%|██████████████████████████████████████████▎                                       | 49/95 [00:27<00:35,  1.31it/s]"
     ]
    },
    {
     "name": "stdout",
     "output_type": "stream",
     "text": [
      "Crawl data 220680981 success !!!\n"
     ]
    },
    {
     "name": "stderr",
     "output_type": "stream",
     "text": [
      " 53%|███████████████████████████████████████████▏                                      | 50/95 [00:27<00:28,  1.59it/s]"
     ]
    },
    {
     "name": "stdout",
     "output_type": "stream",
     "text": [
      "Crawl data 216173180 success !!!\n"
     ]
    },
    {
     "name": "stderr",
     "output_type": "stream",
     "text": [
      " 54%|████████████████████████████████████████████                                      | 51/95 [00:28<00:25,  1.73it/s]"
     ]
    },
    {
     "name": "stdout",
     "output_type": "stream",
     "text": [
      "Crawl data 270447782 success !!!\n"
     ]
    },
    {
     "name": "stderr",
     "output_type": "stream",
     "text": [
      " 55%|████████████████████████████████████████████▉                                     | 52/95 [00:28<00:23,  1.84it/s]"
     ]
    },
    {
     "name": "stdout",
     "output_type": "stream",
     "text": [
      "Crawl data 163914808 success !!!\n"
     ]
    },
    {
     "name": "stderr",
     "output_type": "stream",
     "text": [
      " 56%|█████████████████████████████████████████████▋                                    | 53/95 [00:29<00:25,  1.66it/s]"
     ]
    },
    {
     "name": "stdout",
     "output_type": "stream",
     "text": [
      "Crawl data 171897574 success !!!\n"
     ]
    },
    {
     "name": "stderr",
     "output_type": "stream",
     "text": [
      " 57%|██████████████████████████████████████████████▌                                   | 54/95 [00:29<00:23,  1.77it/s]"
     ]
    },
    {
     "name": "stdout",
     "output_type": "stream",
     "text": [
      "Crawl data 252427658 success !!!\n"
     ]
    },
    {
     "name": "stderr",
     "output_type": "stream",
     "text": [
      " 58%|███████████████████████████████████████████████▍                                  | 55/95 [00:30<00:25,  1.57it/s]"
     ]
    },
    {
     "name": "stdout",
     "output_type": "stream",
     "text": [
      "Crawl data 184248127 success !!!\n"
     ]
    },
    {
     "name": "stderr",
     "output_type": "stream",
     "text": [
      " 59%|████████████████████████████████████████████████▎                                 | 56/95 [00:30<00:20,  1.86it/s]"
     ]
    },
    {
     "name": "stdout",
     "output_type": "stream",
     "text": [
      "Crawl data 270471101 success !!!\n"
     ]
    },
    {
     "name": "stderr",
     "output_type": "stream",
     "text": [
      " 60%|█████████████████████████████████████████████████▏                                | 57/95 [00:31<00:17,  2.15it/s]"
     ]
    },
    {
     "name": "stdout",
     "output_type": "stream",
     "text": [
      "Crawl data 197905982 success !!!\n"
     ]
    },
    {
     "name": "stderr",
     "output_type": "stream",
     "text": [
      " 61%|██████████████████████████████████████████████████                                | 58/95 [00:32<00:31,  1.17it/s]"
     ]
    },
    {
     "name": "stdout",
     "output_type": "stream",
     "text": [
      "Crawl data 248590019 success !!!\n"
     ]
    },
    {
     "name": "stderr",
     "output_type": "stream",
     "text": [
      " 62%|██████████████████████████████████████████████████▉                               | 59/95 [00:33<00:24,  1.47it/s]"
     ]
    },
    {
     "name": "stdout",
     "output_type": "stream",
     "text": [
      "Crawl data 244308977 success !!!\n"
     ]
    },
    {
     "name": "stderr",
     "output_type": "stream",
     "text": [
      " 63%|███████████████████████████████████████████████████▊                              | 60/95 [00:33<00:19,  1.81it/s]"
     ]
    },
    {
     "name": "stdout",
     "output_type": "stream",
     "text": [
      "Crawl data 250111470 success !!!\n"
     ]
    },
    {
     "name": "stderr",
     "output_type": "stream",
     "text": [
      " 64%|████████████████████████████████████████████████████▋                             | 61/95 [00:33<00:18,  1.86it/s]"
     ]
    },
    {
     "name": "stdout",
     "output_type": "stream",
     "text": [
      "Crawl data 247823537 success !!!\n"
     ]
    },
    {
     "name": "stderr",
     "output_type": "stream",
     "text": [
      " 65%|█████████████████████████████████████████████████████▌                            | 62/95 [00:34<00:17,  1.93it/s]"
     ]
    },
    {
     "name": "stdout",
     "output_type": "stream",
     "text": [
      "Crawl data 270977740 success !!!\n"
     ]
    },
    {
     "name": "stderr",
     "output_type": "stream",
     "text": [
      " 66%|██████████████████████████████████████████████████████▍                           | 63/95 [00:34<00:13,  2.31it/s]"
     ]
    },
    {
     "name": "stdout",
     "output_type": "stream",
     "text": [
      "Crawl data 123345348 success !!!\n"
     ]
    },
    {
     "name": "stderr",
     "output_type": "stream",
     "text": [
      " 67%|███████████████████████████████████████████████████████▏                          | 64/95 [00:34<00:11,  2.59it/s]"
     ]
    },
    {
     "name": "stdout",
     "output_type": "stream",
     "text": [
      "Crawl data 197214029 success !!!\n"
     ]
    },
    {
     "name": "stderr",
     "output_type": "stream",
     "text": [
      " 68%|████████████████████████████████████████████████████████                          | 65/95 [00:35<00:10,  2.87it/s]"
     ]
    },
    {
     "name": "stdout",
     "output_type": "stream",
     "text": [
      "Crawl data 198648645 success !!!\n"
     ]
    },
    {
     "name": "stderr",
     "output_type": "stream",
     "text": [
      " 69%|████████████████████████████████████████████████████████▉                         | 66/95 [00:35<00:11,  2.51it/s]"
     ]
    },
    {
     "name": "stdout",
     "output_type": "stream",
     "text": [
      "Crawl data 170497385 success !!!\n"
     ]
    },
    {
     "name": "stderr",
     "output_type": "stream",
     "text": [
      " 71%|█████████████████████████████████████████████████████████▊                        | 67/95 [00:36<00:11,  2.36it/s]"
     ]
    },
    {
     "name": "stdout",
     "output_type": "stream",
     "text": [
      "Crawl data 230157205 success !!!\n"
     ]
    },
    {
     "name": "stderr",
     "output_type": "stream",
     "text": [
      " 72%|██████████████████████████████████████████████████████████▋                       | 68/95 [00:36<00:10,  2.62it/s]"
     ]
    },
    {
     "name": "stdout",
     "output_type": "stream",
     "text": [
      "Crawl data 247730209 success !!!\n"
     ]
    },
    {
     "name": "stderr",
     "output_type": "stream",
     "text": [
      " 73%|███████████████████████████████████████████████████████████▌                      | 69/95 [00:36<00:09,  2.88it/s]"
     ]
    },
    {
     "name": "stdout",
     "output_type": "stream",
     "text": [
      "Crawl data 249890677 success !!!\n"
     ]
    },
    {
     "name": "stderr",
     "output_type": "stream",
     "text": [
      " 74%|████████████████████████████████████████████████████████████▍                     | 70/95 [00:39<00:23,  1.07it/s]"
     ]
    },
    {
     "name": "stdout",
     "output_type": "stream",
     "text": [
      "Crawl data 249143473 success !!!\n"
     ]
    },
    {
     "name": "stderr",
     "output_type": "stream",
     "text": [
      " 75%|█████████████████████████████████████████████████████████████▎                    | 71/95 [00:39<00:17,  1.36it/s]"
     ]
    },
    {
     "name": "stdout",
     "output_type": "stream",
     "text": [
      "Crawl data 270714226 success !!!\n"
     ]
    },
    {
     "name": "stderr",
     "output_type": "stream",
     "text": [
      " 76%|██████████████████████████████████████████████████████████████▏                   | 72/95 [00:39<00:13,  1.65it/s]"
     ]
    },
    {
     "name": "stdout",
     "output_type": "stream",
     "text": [
      "Crawl data 197907038 success !!!\n"
     ]
    },
    {
     "name": "stderr",
     "output_type": "stream",
     "text": [
      " 77%|███████████████████████████████████████████████████████████████                   | 73/95 [00:39<00:10,  2.02it/s]"
     ]
    },
    {
     "name": "stdout",
     "output_type": "stream",
     "text": [
      "Crawl data 247730281 success !!!\n"
     ]
    },
    {
     "name": "stderr",
     "output_type": "stream",
     "text": [
      " 78%|███████████████████████████████████████████████████████████████▊                  | 74/95 [00:40<00:08,  2.37it/s]"
     ]
    },
    {
     "name": "stdout",
     "output_type": "stream",
     "text": [
      "Crawl data 247731336 success !!!\n"
     ]
    },
    {
     "name": "stderr",
     "output_type": "stream",
     "text": [
      " 79%|████████████████████████████████████████████████████████████████▋                 | 75/95 [00:40<00:07,  2.67it/s]"
     ]
    },
    {
     "name": "stdout",
     "output_type": "stream",
     "text": [
      "Crawl data 258667842 success !!!\n"
     ]
    },
    {
     "name": "stderr",
     "output_type": "stream",
     "text": [
      " 80%|█████████████████████████████████████████████████████████████████▌                | 76/95 [00:40<00:07,  2.43it/s]"
     ]
    },
    {
     "name": "stdout",
     "output_type": "stream",
     "text": [
      "Crawl data 140309479 success !!!\n"
     ]
    },
    {
     "name": "stderr",
     "output_type": "stream",
     "text": [
      " 81%|██████████████████████████████████████████████████████████████████▍               | 77/95 [00:41<00:07,  2.31it/s]"
     ]
    },
    {
     "name": "stdout",
     "output_type": "stream",
     "text": [
      "Crawl data 209872337 success !!!\n"
     ]
    },
    {
     "name": "stderr",
     "output_type": "stream",
     "text": [
      " 82%|███████████████████████████████████████████████████████████████████▎              | 78/95 [00:41<00:06,  2.60it/s]"
     ]
    },
    {
     "name": "stdout",
     "output_type": "stream",
     "text": [
      "Crawl data 259542697 success !!!\n"
     ]
    },
    {
     "name": "stderr",
     "output_type": "stream",
     "text": [
      " 83%|████████████████████████████████████████████████████████████████████▏             | 79/95 [00:41<00:05,  2.86it/s]"
     ]
    },
    {
     "name": "stdout",
     "output_type": "stream",
     "text": [
      "Crawl data 270814316 success !!!\n"
     ]
    },
    {
     "name": "stderr",
     "output_type": "stream",
     "text": [
      " 84%|█████████████████████████████████████████████████████████████████████             | 80/95 [00:42<00:05,  2.60it/s]"
     ]
    },
    {
     "name": "stdout",
     "output_type": "stream",
     "text": [
      "Crawl data 257682739 success !!!\n"
     ]
    },
    {
     "name": "stderr",
     "output_type": "stream",
     "text": [
      " 85%|█████████████████████████████████████████████████████████████████████▉            | 81/95 [00:42<00:04,  2.90it/s]"
     ]
    },
    {
     "name": "stdout",
     "output_type": "stream",
     "text": [
      "Crawl data 179547641 success !!!\n"
     ]
    },
    {
     "name": "stderr",
     "output_type": "stream",
     "text": [
      " 86%|██████████████████████████████████████████████████████████████████████▊           | 82/95 [00:42<00:04,  3.06it/s]"
     ]
    },
    {
     "name": "stdout",
     "output_type": "stream",
     "text": [
      "Crawl data 260986508 success !!!\n"
     ]
    },
    {
     "name": "stderr",
     "output_type": "stream",
     "text": [
      " 87%|███████████████████████████████████████████████████████████████████████▋          | 83/95 [00:43<00:05,  2.26it/s]"
     ]
    },
    {
     "name": "stdout",
     "output_type": "stream",
     "text": [
      "Crawl data 262845685 success !!!\n"
     ]
    },
    {
     "name": "stderr",
     "output_type": "stream",
     "text": [
      " 88%|████████████████████████████████████████████████████████████████████████▌         | 84/95 [00:45<00:08,  1.25it/s]"
     ]
    },
    {
     "name": "stdout",
     "output_type": "stream",
     "text": [
      "Crawl data 225266084 success !!!\n"
     ]
    },
    {
     "name": "stderr",
     "output_type": "stream",
     "text": [
      " 89%|█████████████████████████████████████████████████████████████████████████▎        | 85/95 [00:45<00:06,  1.56it/s]"
     ]
    },
    {
     "name": "stdout",
     "output_type": "stream",
     "text": [
      "Crawl data 209927605 success !!!\n"
     ]
    },
    {
     "name": "stderr",
     "output_type": "stream",
     "text": [
      " 91%|██████████████████████████████████████████████████████████████████████████▏       | 86/95 [00:46<00:05,  1.67it/s]"
     ]
    },
    {
     "name": "stdout",
     "output_type": "stream",
     "text": [
      "Crawl data 200995800 success !!!\n"
     ]
    },
    {
     "name": "stderr",
     "output_type": "stream",
     "text": [
      " 92%|███████████████████████████████████████████████████████████████████████████       | 87/95 [00:46<00:04,  1.76it/s]"
     ]
    },
    {
     "name": "stdout",
     "output_type": "stream",
     "text": [
      "Crawl data 264051117 success !!!\n"
     ]
    },
    {
     "name": "stderr",
     "output_type": "stream",
     "text": [
      " 93%|███████████████████████████████████████████████████████████████████████████▉      | 88/95 [00:46<00:03,  2.07it/s]"
     ]
    },
    {
     "name": "stdout",
     "output_type": "stream",
     "text": [
      "Crawl data 103168071 success !!!\n"
     ]
    },
    {
     "name": "stderr",
     "output_type": "stream",
     "text": [
      " 94%|████████████████████████████████████████████████████████████████████████████▊     | 89/95 [00:47<00:02,  2.01it/s]"
     ]
    },
    {
     "name": "stdout",
     "output_type": "stream",
     "text": [
      "Crawl data 215902961 success !!!\n"
     ]
    },
    {
     "name": "stderr",
     "output_type": "stream",
     "text": [
      " 95%|█████████████████████████████████████████████████████████████████████████████▋    | 90/95 [00:47<00:02,  2.03it/s]"
     ]
    },
    {
     "name": "stdout",
     "output_type": "stream",
     "text": [
      "Crawl data 272273680 success !!!\n"
     ]
    },
    {
     "name": "stderr",
     "output_type": "stream",
     "text": [
      " 96%|██████████████████████████████████████████████████████████████████████████████▌   | 91/95 [00:48<00:01,  2.02it/s]"
     ]
    },
    {
     "name": "stdout",
     "output_type": "stream",
     "text": [
      "Crawl data 173387789 success !!!\n"
     ]
    },
    {
     "name": "stderr",
     "output_type": "stream",
     "text": [
      " 97%|███████████████████████████████████████████████████████████████████████████████▍  | 92/95 [00:48<00:01,  2.33it/s]"
     ]
    },
    {
     "name": "stdout",
     "output_type": "stream",
     "text": [
      "Crawl data 125590981 success !!!\n"
     ]
    },
    {
     "name": "stderr",
     "output_type": "stream",
     "text": [
      " 98%|████████████████████████████████████████████████████████████████████████████████▎ | 93/95 [00:49<00:00,  2.18it/s]"
     ]
    },
    {
     "name": "stdout",
     "output_type": "stream",
     "text": [
      "Crawl data 214603586 success !!!\n"
     ]
    },
    {
     "name": "stderr",
     "output_type": "stream",
     "text": [
      " 99%|█████████████████████████████████████████████████████████████████████████████████▏| 94/95 [00:50<00:00,  1.15it/s]"
     ]
    },
    {
     "name": "stdout",
     "output_type": "stream",
     "text": [
      "Crawl data 230155305 success !!!\n"
     ]
    },
    {
     "name": "stderr",
     "output_type": "stream",
     "text": [
      "100%|██████████████████████████████████████████████████████████████████████████████████| 95/95 [00:51<00:00,  1.86it/s]"
     ]
    },
    {
     "name": "stdout",
     "output_type": "stream",
     "text": [
      "Crawl data 270683809 success !!!\n"
     ]
    },
    {
     "name": "stderr",
     "output_type": "stream",
     "text": [
      "\n"
     ]
    }
   ],
   "source": [
    "def parser_product(json):\n",
    "    d = dict()\n",
    "    d['id'] = json.get('id')\n",
    "    d['sku'] = json.get('sku')\n",
    "    d['short_description'] = json.get('short_description')\n",
    "    d['price'] = json.get('price')\n",
    "    d['list_price'] = json.get('list_price')\n",
    "    d['price_usd'] = json.get('price_usd')\n",
    "    d['discount'] = json.get('discount')\n",
    "    d['discount_rate'] = json.get('discount_rate')\n",
    "    d['review_count'] = json.get('review_count')\n",
    "    d['order_count'] = json.get('order_count')\n",
    "    d['inventory_status'] = json.get('inventory_status')\n",
    "    d['is_visible'] = json.get('is_visible')\n",
    "    d['stock_item_qty'] = json.get('stock_item').get('qty')\n",
    "    d['stock_item_max_sale_qty'] = json.get('stock_item').get('max_sale_qty')\n",
    "    d['product_name'] = json.get('meta_title')\n",
    "    d['brand_id'] = json.get('brand').get('id')\n",
    "    d['brand_name'] = json.get('brand').get('name')\n",
    "    return d\n",
    "\n",
    "\n",
    "df_id = pd.read_csv('product_id.csv')\n",
    "p_ids = df_id.id.to_list()\n",
    "print(p_ids)\n",
    "result = []\n",
    "for pid in tqdm(p_ids, total=len(p_ids)):\n",
    "    response = requests.get('https://tiki.vn/api/v2/products/{}'.format(pid), headers=headers, params=params, cookies=cookies)\n",
    "    if response.status_code == 200:\n",
    "        print('Crawl data {} success !!!'.format(pid))\n",
    "        result.append(parser_product(response.json()))\n",
    "    # time.sleep(random.randrange(3, 5))\n",
    "df_product = pd.DataFrame(result)\n",
    "df_product.to_csv('crawled_data_ncds.csv', index=False,encoding='utf-8-sig')# khi xuất ra thường hay bị lỗi font chữ => utf-8"
   ]
  },
  {
   "cell_type": "code",
   "execution_count": null,
   "id": "a368f2c7",
   "metadata": {},
   "outputs": [],
   "source": []
  }
 ],
 "metadata": {
  "kernelspec": {
   "display_name": "Python 3 (ipykernel)",
   "language": "python",
   "name": "python3"
  },
  "language_info": {
   "codemirror_mode": {
    "name": "ipython",
    "version": 3
   },
   "file_extension": ".py",
   "mimetype": "text/x-python",
   "name": "python",
   "nbconvert_exporter": "python",
   "pygments_lexer": "ipython3",
   "version": "3.11.3"
  }
 },
 "nbformat": 4,
 "nbformat_minor": 5
}
