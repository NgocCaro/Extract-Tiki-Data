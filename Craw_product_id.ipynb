{
  "nbformat": 4,
  "nbformat_minor": 0,
  "metadata": {
    "colab": {
      "provenance": [],
      "authorship_tag": "ABX9TyORofeSr4Rc2t3zmphoUsKR",
      "include_colab_link": true
    },
    "kernelspec": {
      "name": "python3",
      "display_name": "Python 3"
    },
    "language_info": {
      "name": "python"
    }
  },
  "cells": [
    {
      "cell_type": "markdown",
      "metadata": {
        "id": "view-in-github",
        "colab_type": "text"
      },
      "source": [
        "<a href=\"https://colab.research.google.com/github/NgocCaro/Extract-Tiki-Data/blob/main/Craw_product_id.ipynb\" target=\"_parent\"><img src=\"https://colab.research.google.com/assets/colab-badge.svg\" alt=\"Open In Colab\"/></a>"
      ]
    },
    {
      "cell_type": "code",
      "execution_count": 1,
      "metadata": {
        "id": "8CzYKTpEjdF3"
      },
      "outputs": [],
      "source": [
        "import requests\n",
        "import time\n",
        "import random\n",
        "import pandas as pd"
      ]
    },
    {
      "cell_type": "code",
      "source": [
        "cookies = {\n",
        "    '_trackity':'f684d5b7-42e0-44cb-fd52-ad02afbcb2b7',\n",
        "    'TOKENS': '{%22access_token%22:%225OQoAigvDNmBVCT7WZYhLUJrsIa34zqK%22%2C%22expires_in%22:157680000%2C%22expires_at%22:1856329690150%2C%22guest_token%22:%225OQoAigvDNmBVCT7WZYhLUJrsIa34zqK%22}',\n",
        "    'delivery_zone' : 'Vk4wMzQwMjQwMTM=',\n",
        "    '_ga' : 'GA1.1.1536681853.1698649698',\n",
        "    '_gcl_au' : '1.1.2002048130.1698649702',\n",
        "    '_fbp' : 'fb.1.1698649702109.2032681665',\n",
        "    '_hjFirstSeen' : '1',\n",
        "    '_hjIncludedInSessionSample_522327' : '0',\n",
        "    '_hjSession_522327':'eyJpZCI6ImU1ZDM4ZmU3LTNlY2EtNDQzYi1iZGIwLTk0YTlhZjM5ODJlNSIsImNyZWF0ZWQiOjE2OTg2NDk3MDMwMTUsImluU2FtcGxlIjpmYWxzZSwic2Vzc2lvbml6ZXJCZXRhRW5hYmxlZCI6ZmFsc2V9',\n",
        "    '_hjAbsoluteSessionInProgress':'0',\n",
        "    'tiki_client_id':'1536681853.1698649698',\n",
        "    '_hjSessionUser_522327':'eyJpZCI6IjViMDMyOTEyLWRkNDctNTQ2Yy1iMTZhLTNiMDQ4OTg2ZGNiZiIsImNyZWF0ZWQiOjE2OTg2NDk3MDMwMTMsImV4aXN0aW5nIjp0cnVlfQ==',\n",
        "    'cto_bundle':'swbnN19TOWx0TTZad0V2d1VJeTNiaGlXWlNobDNZTHVkWU1jY3RsJTJGYjdpYzQlMkIlMkZ1WkV0ZDZNODQ4RWZ1bTFSbTRvdVVQaVlNJTJCSUhiTDFBUXZ0b2p6V0V1b1owS3A3VnNxUHhzQWR1cTM0Tk5ON2xQTmN0bTZVdzZrTXRocDBVWWdOTEFHREVqMVNEbzRSOHBWT0thJTJCVTF6Um9nJTNEJTNE',\n",
        "    'amp_99d374':'HP2GITM06j0OFYs3WAxEV-...1hdvmipq6.1hdvmopbf.23.2a.4d',\n",
        "    '_ga_S9GLR1RQFJ':'GS1.1.1698649697.1.1.1698649947.60.0.0'\n",
        "}"
      ],
      "metadata": {
        "id": "AV4BZHH7ugTf"
      },
      "execution_count": 2,
      "outputs": []
    },
    {
      "cell_type": "code",
      "source": [
        "params = {\n",
        "    'limit': '40',\n",
        "    'include': 'advertisement',\n",
        "    'aggregations': '2',\n",
        "    'version': 'home-persionalized',\n",
        "    'trackity_id': 'f684d5b7-42e0-44cb-fd52-ad02afbcb2b7',\n",
        "    'category': '1789',\n",
        "    'page': '1',\n",
        "    'urlKey': 'dien-thoai-may-tinh-bang'\n",
        "}"
      ],
      "metadata": {
        "id": "BdPxIlBn8Xzs"
      },
      "execution_count": 3,
      "outputs": []
    },
    {
      "cell_type": "code",
      "source": [
        "headers = {\n",
        "    'User-Agent':'Mozilla/5.0 (Windows NT 10.0; Win64; x64) AppleWebKit/537.36 (KHTML, like Gecko) Chrome/118.0.0.0 Safari/537.36',\n",
        "    'Accept':'application/json, text/plain, */*',\n",
        "    'Accept-Language':'en-US,en;q=0.9,vi;q=0.8',\n",
        "    'Referer':'https://tiki.vn/dien-thoai-may-tinh-bang/c1789',\n",
        "    'X-Guest-Token':'5OQoAigvDNmBVCT7WZYhLUJrsIa34zqK',\n",
        "}"
      ],
      "metadata": {
        "id": "Uan0V47dxDZM"
      },
      "execution_count": 4,
      "outputs": []
    },
    {
      "cell_type": "code",
      "source": [
        "product_id = []\n",
        "for i in range(1, 11):# ví dụ chỉ lấy 10 page thôi\n",
        "    params['page'] = i\n",
        "    response = requests.get('https://tiki.vn/api/v2/products', headers=headers, params=params)#, cookies=cookies)\n",
        "    if response.status_code == 200:\n",
        "        print('request success!!!')\n",
        "        for record in response.json().get('data'):\n",
        "            product_id.append({'id': record.get('id')})\n",
        "    time.sleep(random.randrange(3, 10))#Đặt một khoảng thời gian ngẫu nhiên để chờ trước khi gửi yêu cầu tiếp theo\n",
        "                                      #đến trang web. Điều này giúp tránh gửi quá nhiều yêu cầu cùng lúc và có thể bị chặn.\n",
        "\n",
        "df = pd.DataFrame(product_id)\n",
        "df.to_csv('product_id.csv', index=False)"
      ],
      "metadata": {
        "id": "P1K98fOTy9x4"
      },
      "execution_count": null,
      "outputs": []
    }
  ]
}